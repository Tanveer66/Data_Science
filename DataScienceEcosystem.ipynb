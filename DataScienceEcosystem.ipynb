{
  "nbformat": 4,
  "nbformat_minor": 0,
  "metadata": {
    "colab": {
      "provenance": [],
      "authorship_tag": "ABX9TyMqvi5FzDAKAPF1uMI69KSl",
      "include_colab_link": true
    },
    "kernelspec": {
      "name": "python3",
      "display_name": "Python 3"
    },
    "language_info": {
      "name": "python"
    }
  },
  "cells": [
    {
      "cell_type": "markdown",
      "metadata": {
        "id": "view-in-github",
        "colab_type": "text"
      },
      "source": [
        "<a href=\"https://colab.research.google.com/github/Tanveer66/Data_Science/blob/BookUpTrunk/DataScienceEcosystem.ipynb\" target=\"_parent\"><img src=\"https://colab.research.google.com/assets/colab-badge.svg\" alt=\"Open In Colab\"/></a>"
      ]
    },
    {
      "cell_type": "markdown",
      "source": [
        "# Data Science Tools and Ecosystem"
      ],
      "metadata": {
        "id": "LeX2jGfl9qIm"
      }
    },
    {
      "cell_type": "markdown",
      "source": [
        "# Introduction\n",
        "    In this notebook, Data Science Tools and Ecosystem are summarized."
      ],
      "metadata": {
        "id": "0B9-xOhT-Jfa"
      }
    },
    {
      "cell_type": "markdown",
      "source": [
        "# Some of the popular languages that Data Scientists use are:\n",
        "\n",
        "1.   Python\n",
        "2.   Rust\n",
        "3.   R\n",
        "\n"
      ],
      "metadata": {
        "id": "GQ2ooiiM-xPz"
      }
    },
    {
      "cell_type": "markdown",
      "source": [
        "#   **Data Science Tools**\n",
        "     1. Jupyter Notebook\n",
        "     2. Anaconda\n",
        "     3. RStudio\n",
        "\n"
      ],
      "metadata": {
        "id": "wlg_PEtq_jkr"
      }
    },
    {
      "cell_type": "markdown",
      "source": [
        "# Some of the commonly used libraries used by Data Scientists include:\n",
        "\n",
        "\n",
        "1. NumPy\n",
        "2. Pandas\n",
        "3. Matplotlib\n",
        "\n",
        "\n"
      ],
      "metadata": {
        "id": "qEYjRnIhCFri"
      }
    },
    {
      "cell_type": "markdown",
      "source": [
        "# Below are a few examples of evaluating arithmetic expressions in Python\n",
        "\n",
        "\n",
        "    . 3 + 4\n",
        "    . 4 % 2\n",
        "    . 4 *3\n",
        "    . 3 ** 2\n",
        "\n",
        "\n",
        "\n",
        "\n",
        ""
      ],
      "metadata": {
        "id": "W6im3FtICoBC"
      }
    },
    {
      "cell_type": "code",
      "source": [
        "#this line of code is product of two integers: 3 multiplay with 2\n",
        "print(3 * 2 )\n",
        "\n",
        "#this line of code add two integer numbers and print them\n",
        "print(3 + 4)\n",
        "\n"
      ],
      "metadata": {
        "id": "_SbJAx3EDa4l"
      },
      "execution_count": null,
      "outputs": []
    },
    {
      "cell_type": "code",
      "source": [
        "#This will convert 200 minutes to hours by diving by 60\n",
        "\n",
        "minutes = 200\n",
        "hours = minutes / 60\n",
        "print(hours)"
      ],
      "metadata": {
        "id": "WevMfYEPEsd9",
        "outputId": "190ee2de-d426-4cd4-8b7a-d1d34703bd33",
        "colab": {
          "base_uri": "https://localhost:8080/"
        }
      },
      "execution_count": 1,
      "outputs": [
        {
          "output_type": "stream",
          "name": "stdout",
          "text": [
            "3.3333333333333335\n"
          ]
        }
      ]
    },
    {
      "cell_type": "markdown",
      "source": [
        "# **Objectives**:\n",
        "\n",
        "\n",
        "##   List of popular languages for data science\n",
        "*   Python\n",
        "*   R\n",
        "*   Rust\n",
        "\n"
      ],
      "metadata": {
        "id": "gaf2RZxzF0x0"
      }
    },
    {
      "cell_type": "markdown",
      "source": [
        "# **Author Name**\n",
        " **Tanveer Ahamd**"
      ],
      "metadata": {
        "id": "VgMs5-e9GnWt"
      }
    }
  ]
}